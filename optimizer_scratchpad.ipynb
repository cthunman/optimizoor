{
 "cells": [
  {
   "cell_type": "code",
   "execution_count": 226,
   "id": "3c5450a5",
   "metadata": {},
   "outputs": [],
   "source": [
    "from collections import defaultdict"
   ]
  },
  {
   "cell_type": "code",
   "execution_count": 227,
   "id": "261bd44a",
   "metadata": {},
   "outputs": [],
   "source": [
    "# Bond notes below\n",
    "# - Goal = Maximize yield for the entire portfolio. \n",
    "\n",
    "# Rules: \n",
    "# 1) Total market value on the portfolio should be $280m\n",
    "# 2) Market value by tenor bucket:  \n",
    "#              - 1y $90m \n",
    "#              - 5y $40m \n",
    "#              - 6y $150m \n",
    "# 3) Average rating across the portfolio and each tenor bucket should be A- or higher (7.0 or higher) \n",
    "# 4) You cannot exceed the market value cap per ticket that are in column A and B of the caps and bucket tab \n",
    "# 5) You cannot exceed the market value caps for each bond in column E and F of the caps and buckets tab\""
   ]
  },
  {
   "cell_type": "code",
   "execution_count": 228,
   "id": "39930e9f",
   "metadata": {},
   "outputs": [],
   "source": [
    "total_market_value = 280"
   ]
  },
  {
   "cell_type": "code",
   "execution_count": 229,
   "id": "b15cb593",
   "metadata": {},
   "outputs": [],
   "source": [
    "ticker_cap = {\n",
    "    \"AAPL\": 10,\n",
    "    \"MSFT\": 10,\n",
    "    \"ABIBB\": 25,\n",
    "    \"LLOYDS\": 7.5,\n",
    "    \"ADI\": 7.5\n",
    "}\n",
    "bond_cap = {\n",
    "    \"AAPL\": 7.5,\n",
    "    \"MSFT\": 7.5,\n",
    "    \"ABIBB\": 7.5,\n",
    "    \"LLOYDS\": 5,\n",
    "    \"ADI\": 5\n",
    "}\n",
    "tenor_cap = {\n",
    "    1: 90,\n",
    "    5: 40,\n",
    "    6: 150,\n",
    "}"
   ]
  },
  {
   "cell_type": "code",
   "execution_count": 230,
   "id": "b2a91c64",
   "metadata": {},
   "outputs": [],
   "source": [
    "class Bond:\n",
    "    def __init__(self, isin, ticker, maturity_bucket, rating_score, yield_level, price_level):\n",
    "        self.isin = isin \n",
    "        self.ticker = ticker \n",
    "        self.maturity_bucket = maturity_bucket \n",
    "        self.rating_score = rating_score \n",
    "        self.yield_level = yield_level \n",
    "        self.price_level = price_level"
   ]
  },
  {
   "cell_type": "code",
   "execution_count": 231,
   "id": "c792b895",
   "metadata": {},
   "outputs": [],
   "source": [
    "class Position:\n",
    "    def __init__(self, size: float, bond: Bond):\n",
    "        self.size = size\n",
    "        self.bond = bond\n",
    "        \n",
    "    def market_value(self):\n",
    "        return self.size * self.bond.price_level\n",
    "        \n",
    "    def __str__(self):\n",
    "        return f\"<{self.bond.ticker} | {self.size}mm>\"\n",
    "    \n",
    "    def __repr__(self):\n",
    "        return self.__str__()"
   ]
  },
  {
   "cell_type": "code",
   "execution_count": 232,
   "id": "80852e3a",
   "metadata": {},
   "outputs": [],
   "source": [
    "class Portfolio:\n",
    "    def __init__(self, position_list, ticker_cap, bond_cap, tenor_limits, minimum_rating):\n",
    "        self.position_list = position_list\n",
    "        self.ticker_cap = ticker_cap\n",
    "        self.bond_cap = bond_cap\n",
    "        self.tenor_limits = tenor_limits\n",
    "        self.minimum_rating = minimum_rating\n",
    "    \n",
    "    def calculate_average_yield(self):\n",
    "        yield_sum = 0.0\n",
    "        notional = 0.0\n",
    "        for position in self.position_list:\n",
    "            yield_sum += (position.size * position.bond.yield_level)\n",
    "            notional += position.size\n",
    "        return yield_sum / notional\n",
    "    \n",
    "    def tenor_buckets(self):\n",
    "        buckets = defaultdict(float)\n",
    "        for position in self.position_list:\n",
    "            buckets[position.bond.maturity_bucket] += position.size\n",
    "        return buckets\n",
    "    \n",
    "    def ticker_buckets(self):\n",
    "        buckets = defaultdict(float)\n",
    "        for position in self.position_list:\n",
    "            buckets[position.bond.ticker] += position.size\n",
    "        return buckets\n",
    "    \n",
    "    def positions_by_tenor(self):\n",
    "        buckets = defaultdict(list)\n",
    "        for position in self.position_list:\n",
    "            buckets[position.bond.maturity_bucket].append(position)\n",
    "        return buckets\n",
    "    \n",
    "    def market_value(self):\n",
    "        mv = 0.0\n",
    "        for position in self.position_list:\n",
    "            mv += position.market_value()\n",
    "        return mv / 100\n",
    "    \n",
    "    def average_rating(self):\n",
    "        rating_score_sum = 0.0\n",
    "        notional = 0.0\n",
    "        for position in self.position_list:\n",
    "            rating_score_sum += (position.size * position.bond.rating_score)\n",
    "            notional += position.size\n",
    "        return rating_score_sum / notional\n",
    "    \n",
    "    def average_rating_by_tenor(self):\n",
    "        positions_by_tenor = self.positions_by_tenor()\n",
    "        buckets = defaultdict(float)\n",
    "        for tenor in positions_by_tenor:\n",
    "            rating_score_sum = 0.0\n",
    "            notional = 0.0\n",
    "            for position in positions_by_tenor[tenor]:\n",
    "                rating_score_sum += (position.size * position.bond.rating_score)\n",
    "                notional += position.size\n",
    "            buckets[tenor] = rating_score_sum / notional\n",
    "        return buckets\n",
    "    \n",
    "    def get_violations(self):\n",
    "        violations = []\n",
    "        ticker_buckets = self.ticker_buckets()\n",
    "        for ticker in ticker_buckets:\n",
    "            if ticker not in self.ticker_cap:\n",
    "                violations.append(f\"No ticker cap for ticker: {ticker}\")\n",
    "            elif ticker_buckets[ticker] > self.ticker_cap[ticker]:\n",
    "                violations.append(f\"Ticker exceeds limit: {ticker}\")\n",
    "        for position in self.position_list:\n",
    "            if position.size > self.bond_cap[position.bond.ticker]:\n",
    "                violations.append(f\"Position size exceeds limit: {position.bond.ticker}\")\n",
    "        \n",
    "        tenor_buckets = self.tenor_buckets()\n",
    "        for tenor in tenor_buckets:\n",
    "            if tenor not in self.tenor_limits:\n",
    "                violations.append(f\"Tenor not in tenor_limits: {tenor}\")\n",
    "            if tenor_buckets[tenor] > self.tenor_limits[tenor]:\n",
    "                violations.append(f\"Tenor size exceeds limit: {tenor}\")\n",
    "        \n",
    "        average_rating = self.average_rating()\n",
    "        if self.average_rating() > self.minimum_rating:\n",
    "            violations.append(f\"Average rating is {average_rating}, below min rating {self.minimum_rating}\")\n",
    "        return violations"
   ]
  },
  {
   "cell_type": "code",
   "execution_count": 233,
   "id": "43be1a6c",
   "metadata": {},
   "outputs": [],
   "source": [
    "b1 = Bond(\"12345\", \"AAPL\", 5, 3, 3.5, 110.45)\n",
    "b2 = Bond(\"12345\", \"MSFT\", 5, 3, 3.7, 105.73)\n",
    "p1 = Position(5, b1)\n",
    "p2 = Position(5, b2)\n",
    "b3 = Bond(\"12345\", \"AAPL\", 5, 3, 3.4, 120.35)\n",
    "p3 = Position(7, b3)\n",
    "b4 = Bond(\"12345\", \"LLOYDS\", 5, 5, 4.1, 103.25)\n",
    "p4 = Position(6, b4)\n",
    "\n",
    "b5 = Bond(\"12345\", \"ABIBB\", 5, 4, 3.8, 101.25)\n",
    "p5 = Position(20, b5)\n",
    "\n",
    "b6 = Bond(\"12345\", \"ABIBB\", 1, 4, 3.1, 100.25)\n",
    "p6 = Position(20, b6)\n",
    "\n",
    "portfolio = Portfolio([p1, p2, p3, p4, p5, p6], ticker_cap, bond_cap, tenor_cap, 7)"
   ]
  },
  {
   "cell_type": "code",
   "execution_count": 234,
   "id": "e512976e",
   "metadata": {},
   "outputs": [
    {
     "data": {
      "text/plain": [
       "3.5301587301587296"
      ]
     },
     "execution_count": 234,
     "metadata": {},
     "output_type": "execute_result"
    }
   ],
   "source": [
    "portfolio.calculate_average_yield()"
   ]
  },
  {
   "cell_type": "code",
   "execution_count": 235,
   "id": "740a9c51",
   "metadata": {},
   "outputs": [
    {
     "data": {
      "text/plain": [
       "defaultdict(float, {5: 43.0, 1: 20.0})"
      ]
     },
     "execution_count": 235,
     "metadata": {},
     "output_type": "execute_result"
    }
   ],
   "source": [
    "portfolio.tenor_buckets()"
   ]
  },
  {
   "cell_type": "code",
   "execution_count": 236,
   "id": "4f269267",
   "metadata": {},
   "outputs": [
    {
     "data": {
      "text/plain": [
       "defaultdict(float, {'AAPL': 12.0, 'MSFT': 5.0, 'LLOYDS': 6.0, 'ABIBB': 40.0})"
      ]
     },
     "execution_count": 236,
     "metadata": {},
     "output_type": "execute_result"
    }
   ],
   "source": [
    "portfolio.ticker_buckets()"
   ]
  },
  {
   "cell_type": "code",
   "execution_count": 237,
   "id": "1cd29ef8",
   "metadata": {},
   "outputs": [
    {
     "data": {
      "text/plain": [
       "[<AAPL | 5mm>,\n",
       " <MSFT | 5mm>,\n",
       " <AAPL | 7mm>,\n",
       " <LLOYDS | 6mm>,\n",
       " <ABIBB | 20mm>,\n",
       " <ABIBB | 20mm>]"
      ]
     },
     "execution_count": 237,
     "metadata": {},
     "output_type": "execute_result"
    }
   ],
   "source": [
    "portfolio.position_list"
   ]
  },
  {
   "cell_type": "code",
   "execution_count": 238,
   "id": "fa201fdd",
   "metadata": {},
   "outputs": [
    {
     "data": {
      "text/plain": [
       "65.7285"
      ]
     },
     "execution_count": 238,
     "metadata": {},
     "output_type": "execute_result"
    }
   ],
   "source": [
    "portfolio.market_value()"
   ]
  },
  {
   "cell_type": "code",
   "execution_count": 239,
   "id": "315d6479",
   "metadata": {},
   "outputs": [
    {
     "data": {
      "text/plain": [
       "3.8253968253968256"
      ]
     },
     "execution_count": 239,
     "metadata": {},
     "output_type": "execute_result"
    }
   ],
   "source": [
    "portfolio.average_rating()"
   ]
  },
  {
   "cell_type": "code",
   "execution_count": 240,
   "id": "bc06d84d",
   "metadata": {},
   "outputs": [
    {
     "data": {
      "text/plain": [
       "['Ticker exceeds limit: AAPL',\n",
       " 'Ticker exceeds limit: ABIBB',\n",
       " 'Position size exceeds limit: LLOYDS',\n",
       " 'Position size exceeds limit: ABIBB',\n",
       " 'Position size exceeds limit: ABIBB',\n",
       " 'Tenor size exceeds limit: 5']"
      ]
     },
     "execution_count": 240,
     "metadata": {},
     "output_type": "execute_result"
    }
   ],
   "source": [
    "portfolio.get_violations()"
   ]
  },
  {
   "cell_type": "code",
   "execution_count": 241,
   "id": "daced0c7",
   "metadata": {},
   "outputs": [
    {
     "data": {
      "text/plain": [
       "defaultdict(list,\n",
       "            {5: [<AAPL | 5mm>,\n",
       "              <MSFT | 5mm>,\n",
       "              <AAPL | 7mm>,\n",
       "              <LLOYDS | 6mm>,\n",
       "              <ABIBB | 20mm>],\n",
       "             1: [<ABIBB | 20mm>]})"
      ]
     },
     "execution_count": 241,
     "metadata": {},
     "output_type": "execute_result"
    }
   ],
   "source": [
    "portfolio.positions_by_tenor()"
   ]
  },
  {
   "cell_type": "code",
   "execution_count": 242,
   "id": "1cf9ca90",
   "metadata": {},
   "outputs": [
    {
     "data": {
      "text/plain": [
       "defaultdict(float, {5: 3.744186046511628, 1: 4.0})"
      ]
     },
     "execution_count": 242,
     "metadata": {},
     "output_type": "execute_result"
    }
   ],
   "source": [
    "portfolio.average_rating_by_tenor()"
   ]
  },
  {
   "cell_type": "code",
   "execution_count": 243,
   "id": "6ad1845a",
   "metadata": {},
   "outputs": [],
   "source": [
    "def optimize_portfolio(bond_list, ticker_cap, bond_cap, tenor_limits, minimum_rating):\n",
    "    pass"
   ]
  },
  {
   "cell_type": "code",
   "execution_count": null,
   "id": "1dee6d4a",
   "metadata": {},
   "outputs": [],
   "source": [
    "# res = minimize(\n",
    "#     objective_function, #maximize yield\n",
    "#     x0=10 * np.random.random(n_buyers), \n",
    "#     args=(prices,), \n",
    "#     constraints=constraint,\n",
    "#     bounds=bounds,\n",
    "# )"
   ]
  }
 ],
 "metadata": {
  "kernelspec": {
   "display_name": "Python 3 (ipykernel)",
   "language": "python",
   "name": "python3"
  },
  "language_info": {
   "codemirror_mode": {
    "name": "ipython",
    "version": 3
   },
   "file_extension": ".py",
   "mimetype": "text/x-python",
   "name": "python",
   "nbconvert_exporter": "python",
   "pygments_lexer": "ipython3",
   "version": "3.10.6"
  }
 },
 "nbformat": 4,
 "nbformat_minor": 5
}
